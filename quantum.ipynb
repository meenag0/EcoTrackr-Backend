{
 "cells": [
  {
   "cell_type": "code",
   "execution_count": 2,
   "metadata": {},
   "outputs": [],
   "source": [
    "import PyPDF2 \n",
    "import re\n",
    "from sklearn.feature_extraction.text import CountVectorizer\n",
    "from sklearn.decomposition import LatentDirichletAllocation"
   ]
  },
  {
   "cell_type": "code",
   "execution_count": 30,
   "metadata": {},
   "outputs": [],
   "source": [
    "def extract_text_from_pdf(pdf_paths):\n",
    "    combined_text = \"\"\n",
    "    for pdf_path in pdf_paths:\n",
    "        with open(pdf_path, \"rb\") as file:\n",
    "            reader = PyPDF2.PdfReader(file)\n",
    "            num_pages = reader(len(reader.pages))\n",
    "            for page_num in range(reader(len(reader.pages))):\n",
    "                page = reader.getPage(page_num)\n",
    "                combined_text += page.extractText()\n",
    "    return combined_text"
   ]
  },
  {
   "cell_type": "code",
   "execution_count": 31,
   "metadata": {},
   "outputs": [],
   "source": [
    "def preprocess_text(text):\n",
    "    # Lowercasing\n",
    "    text = text.lower()\n",
    "    \n",
    "    # Removing special characters\n",
    "    text = re.sub(r'[^a-zA-Z\\s]', '', text)\n",
    "    \n",
    "    # Removing numeric characters\n",
    "    text = re.sub(r'\\b\\d+\\b', '', text)\n",
    "    \n",
    "    # Removing URLs or Email Addresses\n",
    "    text = re.sub(r'\\b(?:https?://|www\\.)\\S+\\b', '', text)\n",
    "    text = re.sub(r'\\b[\\w\\.-]+@[\\w\\.-]+\\.\\w+\\b', '', text)\n",
    "    \n",
    "    # Handling Line Breaks and Page Numbers\n",
    "    text = re.sub(r'\\n|\\r|\\t', ' ', text)\n",
    "    text = re.sub(r'\\b\\d+\\b', '', text)\n",
    "    \n",
    "    # Removing Headers and Footers\n",
    "    text = re.sub(r'^.*[Hh]eaders?[^$]*|.*[Ff]ooters?[^$]*', '', text)\n",
    "    return text"
   ]
  },
  {
   "cell_type": "code",
   "execution_count": 32,
   "metadata": {},
   "outputs": [],
   "source": [
    "def segment_text_based_on_themes(text, num_topics=5):\n",
    "    # Vectorize text\n",
    "    vectorizer = CountVectorizer()\n",
    "    X = vectorizer.fit_transform([text])\n",
    "\n",
    "    # Apply Latent Dirichlet Allocation (LDA)\n",
    "    lda = LatentDirichletAllocation(n_components=num_topics, random_state=42)\n",
    "    lda.fit(X)\n",
    "\n",
    "    # Get the most representative words for each topic\n",
    "    feature_names = vectorizer.get_feature_names_out()\n",
    "    segments = []\n",
    "    for topic_idx, topic in enumerate(lda.components_):\n",
    "        top_words_idx = topic.argsort()[:-10-1:-1]\n",
    "        top_words = [feature_names[i] for i in top_words_idx]\n",
    "        segments.append(', '.join(top_words))\n",
    "\n",
    "    return segments"
   ]
  },
  {
   "cell_type": "code",
   "execution_count": 33,
   "metadata": {},
   "outputs": [],
   "source": [
    "def generate_daily_readings(segments, num_days):\n",
    "    # Generate daily readings by distributing segments across days\n",
    "    readings_per_day = len(segments) // num_days\n",
    "    daily_readings = [segments[i:i+readings_per_day] for i in range(0, len(segments), readings_per_day)]\n",
    "    return daily_readings"
   ]
  },
  {
   "cell_type": "code",
   "execution_count": 34,
   "metadata": {},
   "outputs": [],
   "source": [
    "def main():\n",
    "    pdf_paths = [\"/Users/meenakshigopalakrishnan/EcoTrackr-Backend/AncientEgypt/encyclo.pdf\", \"/Users/meenakshigopalakrishnan/EcoTrackr-Backend/AncientEgypt/spqr.pdf\",\"/Users/meenakshigopalakrishnan/EcoTrackr-Backend/AncientEgypt/THE TWELVE CAESARS.pdf\", \"/Users/meenakshigopalakrishnan/EcoTrackr-Backend/AncientEgypt/The_Roman_Triumph_Mary_Beard.pdf\"]  # List of PDF paths\n",
    "    text = extract_text_from_pdf(pdf_paths)\n",
    "    processed_text = preprocess_text(text)\n",
    "    segments = segment_text_based_on_themes(processed_text)\n",
    "    num_days = 7  # Number of days for daily readings\n",
    "    daily_readings = generate_daily_readings(segments, num_days)\n",
    "    return daily_readings"
   ]
  },
  {
   "cell_type": "code",
   "execution_count": 35,
   "metadata": {},
   "outputs": [
    {
     "ename": "TypeError",
     "evalue": "'PdfReader' object is not callable",
     "output_type": "error",
     "traceback": [
      "\u001b[0;31m---------------------------------------------------------------------------\u001b[0m",
      "\u001b[0;31mTypeError\u001b[0m                                 Traceback (most recent call last)",
      "Cell \u001b[0;32mIn[35], line 1\u001b[0m\n\u001b[0;32m----> 1\u001b[0m daily_readings \u001b[38;5;241m=\u001b[39m \u001b[43mmain\u001b[49m\u001b[43m(\u001b[49m\u001b[43m)\u001b[49m\n\u001b[1;32m      3\u001b[0m \u001b[38;5;66;03m# Get the first segment (assuming it exists)\u001b[39;00m\n\u001b[1;32m      4\u001b[0m example_segment \u001b[38;5;241m=\u001b[39m daily_readings[\u001b[38;5;241m0\u001b[39m][\u001b[38;5;241m0\u001b[39m]  \u001b[38;5;66;03m# Assuming there's at least one segment for the first day\u001b[39;00m\n",
      "Cell \u001b[0;32mIn[34], line 3\u001b[0m, in \u001b[0;36mmain\u001b[0;34m()\u001b[0m\n\u001b[1;32m      1\u001b[0m \u001b[38;5;28;01mdef\u001b[39;00m \u001b[38;5;21mmain\u001b[39m():\n\u001b[1;32m      2\u001b[0m     pdf_paths \u001b[38;5;241m=\u001b[39m [\u001b[38;5;124m\"\u001b[39m\u001b[38;5;124m/Users/meenakshigopalakrishnan/EcoTrackr-Backend/AncientEgypt/encyclo.pdf\u001b[39m\u001b[38;5;124m\"\u001b[39m, \u001b[38;5;124m\"\u001b[39m\u001b[38;5;124m/Users/meenakshigopalakrishnan/EcoTrackr-Backend/AncientEgypt/spqr.pdf\u001b[39m\u001b[38;5;124m\"\u001b[39m,\u001b[38;5;124m\"\u001b[39m\u001b[38;5;124m/Users/meenakshigopalakrishnan/EcoTrackr-Backend/AncientEgypt/THE TWELVE CAESARS.pdf\u001b[39m\u001b[38;5;124m\"\u001b[39m, \u001b[38;5;124m\"\u001b[39m\u001b[38;5;124m/Users/meenakshigopalakrishnan/EcoTrackr-Backend/AncientEgypt/The_Roman_Triumph_Mary_Beard.pdf\u001b[39m\u001b[38;5;124m\"\u001b[39m]  \u001b[38;5;66;03m# List of PDF paths\u001b[39;00m\n\u001b[0;32m----> 3\u001b[0m     text \u001b[38;5;241m=\u001b[39m \u001b[43mextract_text_from_pdf\u001b[49m\u001b[43m(\u001b[49m\u001b[43mpdf_paths\u001b[49m\u001b[43m)\u001b[49m\n\u001b[1;32m      4\u001b[0m     processed_text \u001b[38;5;241m=\u001b[39m preprocess_text(text)\n\u001b[1;32m      5\u001b[0m     segments \u001b[38;5;241m=\u001b[39m segment_text_based_on_themes(processed_text)\n",
      "Cell \u001b[0;32mIn[30], line 6\u001b[0m, in \u001b[0;36mextract_text_from_pdf\u001b[0;34m(pdf_paths)\u001b[0m\n\u001b[1;32m      4\u001b[0m \u001b[38;5;28;01mwith\u001b[39;00m \u001b[38;5;28mopen\u001b[39m(pdf_path, \u001b[38;5;124m\"\u001b[39m\u001b[38;5;124mrb\u001b[39m\u001b[38;5;124m\"\u001b[39m) \u001b[38;5;28;01mas\u001b[39;00m file:\n\u001b[1;32m      5\u001b[0m     reader \u001b[38;5;241m=\u001b[39m PyPDF2\u001b[38;5;241m.\u001b[39mPdfReader(file)\n\u001b[0;32m----> 6\u001b[0m     num_pages \u001b[38;5;241m=\u001b[39m \u001b[43mreader\u001b[49m\u001b[43m(\u001b[49m\u001b[38;5;28;43mlen\u001b[39;49m\u001b[43m(\u001b[49m\u001b[43mreader\u001b[49m\u001b[38;5;241;43m.\u001b[39;49m\u001b[43mpages\u001b[49m\u001b[43m)\u001b[49m\u001b[43m)\u001b[49m\n\u001b[1;32m      7\u001b[0m     \u001b[38;5;28;01mfor\u001b[39;00m page_num \u001b[38;5;129;01min\u001b[39;00m \u001b[38;5;28mrange\u001b[39m(reader(\u001b[38;5;28mlen\u001b[39m(reader\u001b[38;5;241m.\u001b[39mpages))):\n\u001b[1;32m      8\u001b[0m         page \u001b[38;5;241m=\u001b[39m reader\u001b[38;5;241m.\u001b[39mgetPage(page_num)\n",
      "\u001b[0;31mTypeError\u001b[0m: 'PdfReader' object is not callable"
     ]
    }
   ],
   "source": [
    "daily_readings = main()\n",
    "\n",
    "# Get the first segment\n",
    "example_segment = daily_readings[0][0]  \n",
    "\n",
    "# Print out the example segment\n",
    "print(\"Example Segment:\")\n",
    "print(example_segment)"
   ]
  },
  {
   "cell_type": "code",
   "execution_count": 28,
   "metadata": {},
   "outputs": [],
   "source": [
    "import spacy\n"
   ]
  },
  {
   "cell_type": "code",
   "execution_count": 29,
   "metadata": {},
   "outputs": [],
   "source": [
    "nlp = spacy.load(\"en_core_web_sm\")\n",
    "\n",
    "def tokenize_text(text):\n",
    "    doc = nlp(text)\n",
    "    tokens = [token.text for token in doc]\n",
    "    return tokens"
   ]
  }
 ],
 "metadata": {
  "kernelspec": {
   "display_name": "EcoTrackr-Backend",
   "language": "python",
   "name": "python3"
  },
  "language_info": {
   "codemirror_mode": {
    "name": "ipython",
    "version": 3
   },
   "file_extension": ".py",
   "mimetype": "text/x-python",
   "name": "python",
   "nbconvert_exporter": "python",
   "pygments_lexer": "ipython3",
   "version": "3.12.2"
  }
 },
 "nbformat": 4,
 "nbformat_minor": 2
}
