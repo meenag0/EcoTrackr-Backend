{
 "cells": [
  {
   "cell_type": "code",
   "execution_count": 2,
   "metadata": {},
   "outputs": [],
   "source": [
    "import PyPDF2 \n",
    "import re\n",
    "from sklearn.feature_extraction.text import CountVectorizer\n",
    "from sklearn.decomposition import LatentDirichletAllocation"
   ]
  },
  {
   "cell_type": "code",
   "execution_count": 3,
   "metadata": {},
   "outputs": [],
   "source": [
    "def extract_text_from_pdf(pdf_paths):\n",
    "    combined_text = \"\"\n",
    "    for pdf_path in pdf_paths:\n",
    "        with open(pdf_path, \"rb\") as file:\n",
    "            reader = PyPDF2.PdfFileReader(file)\n",
    "            num_pages = reader.numPages\n",
    "            for page_num in range(reader.numPages):\n",
    "                page = reader.getPage(page_num)\n",
    "                combined_text += page.extractText()\n",
    "    return combined_text"
   ]
  },
  {
   "cell_type": "code",
   "execution_count": 4,
   "metadata": {},
   "outputs": [],
   "source": [
    "def preprocess_text(text):\n",
    "    # Lowercasing\n",
    "    text = text.lower()\n",
    "    \n",
    "    # Removing special characters\n",
    "    text = re.sub(r'[^a-zA-Z\\s]', '', text)\n",
    "    \n",
    "    # Removing numeric characters\n",
    "    text = re.sub(r'\\b\\d+\\b', '', text)\n",
    "    \n",
    "    # Removing URLs or Email Addresses\n",
    "    text = re.sub(r'\\b(?:https?://|www\\.)\\S+\\b', '', text)\n",
    "    text = re.sub(r'\\b[\\w\\.-]+@[\\w\\.-]+\\.\\w+\\b', '', text)\n",
    "    \n",
    "    # Handling Line Breaks and Page Numbers\n",
    "    text = re.sub(r'\\n|\\r|\\t', ' ', text)\n",
    "    text = re.sub(r'\\b\\d+\\b', '', text)\n",
    "    \n",
    "    # Removing Headers and Footers\n",
    "    text = re.sub(r'^.*[Hh]eaders?[^$]*|.*[Ff]ooters?[^$]*', '', text)\n",
    "    return text"
   ]
  },
  {
   "cell_type": "code",
   "execution_count": 8,
   "metadata": {},
   "outputs": [],
   "source": [
    "def segment_text_based_on_themes(text, num_topics=5):\n",
    "    # Vectorize text\n",
    "    vectorizer = CountVectorizer()\n",
    "    X = vectorizer.fit_transform([text])\n",
    "\n",
    "    # Apply Latent Dirichlet Allocation (LDA)\n",
    "    lda = LatentDirichletAllocation(n_components=num_topics, random_state=42)\n",
    "    lda.fit(X)\n",
    "\n",
    "    # Get the most representative words for each topic\n",
    "    feature_names = vectorizer.get_feature_names_out()\n",
    "    segments = []\n",
    "    for topic_idx, topic in enumerate(lda.components_):\n",
    "        top_words_idx = topic.argsort()[:-10-1:-1]\n",
    "        top_words = [feature_names[i] for i in top_words_idx]\n",
    "        segments.append(', '.join(top_words))\n",
    "\n",
    "    return segments"
   ]
  },
  {
   "cell_type": "code",
   "execution_count": 9,
   "metadata": {},
   "outputs": [],
   "source": [
    "def generate_daily_readings(segments, num_days):\n",
    "    # Generate daily readings by distributing segments across days\n",
    "    readings_per_day = len(segments) // num_days\n",
    "    daily_readings = [segments[i:i+readings_per_day] for i in range(0, len(segments), readings_per_day)]\n",
    "    return daily_readings"
   ]
  },
  {
   "cell_type": "code",
   "execution_count": 5,
   "metadata": {},
   "outputs": [],
   "source": [
    "def main():\n",
    "    pdf_paths = [\"/Users/meenakshigopalakrishnan/EcoTrackr-Backend/AncientEgypt/encyclo.pdf\", \"/Users/meenakshigopalakrishnan/EcoTrackr-Backend/AncientEgypt/spqr.pdf\",\"/Users/meenakshigopalakrishnan/EcoTrackr-Backend/AncientEgypt/THE TWELVE CAESARS.pdf\"]  # List of PDF paths\n",
    "    text = extract_text_from_pdf(pdf_paths)\n",
    "    processed_text = preprocess_text(text)\n",
    "    segments = segment_text_based_on_themes(processed_text)\n",
    "    num_days = 7  # Number of days for daily readings\n",
    "    daily_readings = generate_daily_readings(segments, num_days)\n",
    "    return daily_readings"
   ]
  },
  {
   "cell_type": "code",
   "execution_count": 28,
   "metadata": {},
   "outputs": [],
   "source": [
    "import spacy\n"
   ]
  },
  {
   "cell_type": "code",
   "execution_count": 29,
   "metadata": {},
   "outputs": [],
   "source": [
    "nlp = spacy.load(\"en_core_web_sm\")\n",
    "\n",
    "def tokenize_text(text):\n",
    "    doc = nlp(text)\n",
    "    tokens = [token.text for token in doc]\n",
    "    return tokens"
   ]
  }
 ],
 "metadata": {
  "kernelspec": {
   "display_name": "EcoTrackr-Backend",
   "language": "python",
   "name": "python3"
  },
  "language_info": {
   "codemirror_mode": {
    "name": "ipython",
    "version": 3
   },
   "file_extension": ".py",
   "mimetype": "text/x-python",
   "name": "python",
   "nbconvert_exporter": "python",
   "pygments_lexer": "ipython3",
   "version": "3.12.2"
  }
 },
 "nbformat": 4,
 "nbformat_minor": 2
}
